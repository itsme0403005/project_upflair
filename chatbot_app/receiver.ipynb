{
 "cells": [
  {
   "cell_type": "code",
   "execution_count": null,
   "metadata": {},
   "outputs": [],
   "source": [
    "import socket\n",
    "\n",
    "s = socket.socket(socket.AF_INET, socket.SOCK_DGRAM)\n",
    "ip_add = \"192.168.217.74\"\n",
    "port = 1234\n",
    "complete=(ip_add,port)\n",
    "s.bind(complete)\n",
    "\n",
    "while True:\n",
    "    msg = s.recvfrom(1024)\n",
    "    print(msg[0].decode('ascii'))"
   ]
  }
 ],
 "metadata": {
  "language_info": {
   "name": "python"
  }
 },
 "nbformat": 4,
 "nbformat_minor": 2
}
