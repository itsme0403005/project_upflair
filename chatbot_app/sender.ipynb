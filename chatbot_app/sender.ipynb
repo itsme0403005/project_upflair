{
 "cells": [
  {
   "cell_type": "code",
   "execution_count": null,
   "metadata": {},
   "outputs": [],
   "source": [
    "import socket\n",
    "s=socket.socket(socket.AF_INET,socket.SOCK_DGRAM)\n",
    "ip_add=\"192.168.217.74\" #reciver's\n",
    "port=1234 #receiver's\n",
    "complete = (ip_add,port)\n",
    "message=input(\"hnji boliye\")\n",
    "encode_msg=message.encode('ascii')\n",
    "s.sendto(encode_msg,complete)\n",
    "s.close()"
   ]
  }
 ],
 "metadata": {
  "language_info": {
   "name": "python"
  }
 },
 "nbformat": 4,
 "nbformat_minor": 2
}
